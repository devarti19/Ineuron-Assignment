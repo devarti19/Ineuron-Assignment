{
 "cells": [
  {
   "cell_type": "markdown",
   "metadata": {},
   "source": [
    "### Task 1:"
   ]
  },
  {
   "cell_type": "markdown",
   "metadata": {},
   "source": [
    "#### 1.Write a function to compute 5/0 and use try/except to catch the exceptions.\n"
   ]
  },
  {
   "cell_type": "code",
   "execution_count": 1,
   "metadata": {},
   "outputs": [],
   "source": [
    "def te(num):\n",
    "    try:\n",
    "        a= num/0\n",
    "    except:\n",
    "        print(\"Zero Division error\")\n",
    "    finally:\n",
    "        print(\"Finally statement\")"
   ]
  },
  {
   "cell_type": "code",
   "execution_count": 2,
   "metadata": {},
   "outputs": [
    {
     "name": "stdout",
     "output_type": "stream",
     "text": [
      "Zero Division error\n",
      "Finally statement\n"
     ]
    }
   ],
   "source": [
    "a=5\n",
    "te(a)"
   ]
  },
  {
   "cell_type": "markdown",
   "metadata": {},
   "source": [
    "#### 2.Implement a Python program to generate all sentences where \n",
    "subject is in [\"Americans\",\"Indians\"] <br>\n",
    "and verb is in [\"Play\", \"watch\"] <br>\n",
    "and the object is in [\"Baseball\",\"cricket\"].<br>\n",
    "Hint: Subject,Verb and Object should be declared in the program as shown below.<br>\n",
    "subjects=[\"Americans \",\"Indians\"]<br>\n",
    "verbs=[\"play\",\"watch\"]<br>\n",
    "objects=[\"Baseball\",\"Cricket\"]<br>\n",
    "\n",
    "Output should come as below:<br>\n",
    "\n",
    "Americans play Baseball.<br>\n",
    "Americans play Cricket.<br>\n",
    "Americans watch Baseball.<br>\n",
    "Americans watch Cricket.<br>\n",
    "Indians play Baseball.<br>\n",
    "Indians play Cricket.<br>\n",
    "Indians watch Baseball.<br>\n",
    "Indians watch Cricket.<br>"
   ]
  },
  {
   "cell_type": "code",
   "execution_count": 3,
   "metadata": {},
   "outputs": [],
   "source": [
    "subjects=[\"Americans \",\"Indians\"]\n",
    "verbs=[\"play\",\"watch\"]\n",
    "objects=[\"Baseball\",\"Cricket\"]"
   ]
  },
  {
   "cell_type": "code",
   "execution_count": 9,
   "metadata": {},
   "outputs": [],
   "source": [
    "sent=[]\n",
    "for i in range(0,2):\n",
    "    for j in range(0,2):\n",
    "        for k in range(0,2):\n",
    "            sent.append(subjects[i]+\" \"+verbs[j]+\" \"+objects[k]+\".\"+'\\n')"
   ]
  },
  {
   "cell_type": "code",
   "execution_count": 10,
   "metadata": {},
   "outputs": [
    {
     "name": "stdout",
     "output_type": "stream",
     "text": [
      "Americans  play Baseball.\n",
      " Americans  play Cricket.\n",
      " Americans  watch Baseball.\n",
      " Americans  watch Cricket.\n",
      " Indians play Baseball.\n",
      " Indians play Cricket.\n",
      " Indians watch Baseball.\n",
      " Indians watch Cricket.\n",
      "\n"
     ]
    }
   ],
   "source": [
    "print(*(sent))"
   ]
  },
  {
   "cell_type": "markdown",
   "metadata": {},
   "source": [
    "### Task 2:"
   ]
  },
  {
   "cell_type": "markdown",
   "metadata": {},
   "source": [
    "#### 1.Write a function so that the columns of the output matrix are powers of the input vector.\n",
    "The order of the powers is determined by the increasing boolean argument. Specifically, when\n",
    "increasing is False, the i-th output column is the input vector raised element-wise to the power\n",
    "of N - i - 1.\n",
    "\n",
    "HINT: Such a matrix with a geometric progression in each row is named for Alexandre-\n",
    "Theophile Vandermonde."
   ]
  },
  {
   "cell_type": "code",
   "execution_count": 15,
   "metadata": {},
   "outputs": [],
   "source": [
    "def atv(vec,n):\n",
    "    l=[]\n",
    "    a=[]\n",
    "    for i in range(len(vec)):\n",
    "        for j in range(1,n+2):\n",
    "            a.append(vec[i]**j)\n",
    "        l.append(a)\n",
    "        a=[]\n",
    "    return l"
   ]
  },
  {
   "cell_type": "code",
   "execution_count": 18,
   "metadata": {},
   "outputs": [
    {
     "name": "stdout",
     "output_type": "stream",
     "text": [
      "[1, 1, 1, 1]\n",
      "[2, 4, 8, 16]\n",
      "[3, 9, 27, 81]\n",
      "[4, 16, 64, 256]\n"
     ]
    }
   ],
   "source": [
    "v=[1,2,3,4]\n",
    "n=3\n",
    "print(*atv(v,n),sep='\\n')"
   ]
  },
  {
   "cell_type": "code",
   "execution_count": null,
   "metadata": {},
   "outputs": [],
   "source": []
  }
 ],
 "metadata": {
  "kernelspec": {
   "display_name": "Python 3",
   "language": "python",
   "name": "python3"
  },
  "language_info": {
   "codemirror_mode": {
    "name": "ipython",
    "version": 3
   },
   "file_extension": ".py",
   "mimetype": "text/x-python",
   "name": "python",
   "nbconvert_exporter": "python",
   "pygments_lexer": "ipython3",
   "version": "3.7.3"
  }
 },
 "nbformat": 4,
 "nbformat_minor": 2
}
