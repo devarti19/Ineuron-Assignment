{
 "cells": [
  {
   "cell_type": "markdown",
   "metadata": {},
   "source": [
    "Problem 1:<br>\n",
    "There are various stocks for which we have collected a data set, which all stocks are\n",
    "apparently similar in performance<br>\n",
    "Problem 2:<br>\n",
    "How many Unique patterns that exist in the historical stock data set, based on\n",
    "fluctuations in price.<br>\n",
    "Problem 3:<br>\n",
    "Identify which all stocks are moving together and which all stocks are different from\n",
    "each other"
   ]
  },
  {
   "cell_type": "code",
   "execution_count": 1,
   "metadata": {},
   "outputs": [],
   "source": [
    "import math\n",
    "import pandas as pd\n",
    "import numpy as np\n",
    "import matplotlib.pyplot as plt\n",
    "from sklearn.cluster import KMeans"
   ]
  },
  {
   "cell_type": "code",
   "execution_count": 2,
   "metadata": {},
   "outputs": [
    {
     "data": {
      "text/html": [
       "<div>\n",
       "<style scoped>\n",
       "    .dataframe tbody tr th:only-of-type {\n",
       "        vertical-align: middle;\n",
       "    }\n",
       "\n",
       "    .dataframe tbody tr th {\n",
       "        vertical-align: top;\n",
       "    }\n",
       "\n",
       "    .dataframe thead th {\n",
       "        text-align: right;\n",
       "    }\n",
       "</style>\n",
       "<table border=\"1\" class=\"dataframe\">\n",
       "  <thead>\n",
       "    <tr style=\"text-align: right;\">\n",
       "      <th></th>\n",
       "      <th>DATE</th>\n",
       "      <th>SP500</th>\n",
       "      <th>NASDAQ.AAL</th>\n",
       "      <th>NASDAQ.AAPL</th>\n",
       "      <th>NASDAQ.ADBE</th>\n",
       "      <th>NASDAQ.ADI</th>\n",
       "      <th>NASDAQ.ADP</th>\n",
       "      <th>NASDAQ.ADSK</th>\n",
       "      <th>NASDAQ.AKAM</th>\n",
       "      <th>NASDAQ.ALXN</th>\n",
       "      <th>...</th>\n",
       "      <th>NYSE.WYN</th>\n",
       "      <th>NYSE.XEC</th>\n",
       "      <th>NYSE.XEL</th>\n",
       "      <th>NYSE.XL</th>\n",
       "      <th>NYSE.XOM</th>\n",
       "      <th>NYSE.XRX</th>\n",
       "      <th>NYSE.XYL</th>\n",
       "      <th>NYSE.YUM</th>\n",
       "      <th>NYSE.ZBH</th>\n",
       "      <th>NYSE.ZTS</th>\n",
       "    </tr>\n",
       "  </thead>\n",
       "  <tbody>\n",
       "    <tr>\n",
       "      <th>0</th>\n",
       "      <td>1491226200</td>\n",
       "      <td>2363.6101</td>\n",
       "      <td>42.3300</td>\n",
       "      <td>143.6800</td>\n",
       "      <td>129.6300</td>\n",
       "      <td>82.040</td>\n",
       "      <td>102.2300</td>\n",
       "      <td>85.2200</td>\n",
       "      <td>59.760</td>\n",
       "      <td>121.52</td>\n",
       "      <td>...</td>\n",
       "      <td>84.370</td>\n",
       "      <td>119.035</td>\n",
       "      <td>44.40</td>\n",
       "      <td>39.88</td>\n",
       "      <td>82.03</td>\n",
       "      <td>7.36</td>\n",
       "      <td>50.22</td>\n",
       "      <td>63.86</td>\n",
       "      <td>122.000</td>\n",
       "      <td>53.350</td>\n",
       "    </tr>\n",
       "    <tr>\n",
       "      <th>1</th>\n",
       "      <td>1491226260</td>\n",
       "      <td>2364.1001</td>\n",
       "      <td>42.3600</td>\n",
       "      <td>143.7000</td>\n",
       "      <td>130.3200</td>\n",
       "      <td>82.080</td>\n",
       "      <td>102.1400</td>\n",
       "      <td>85.6500</td>\n",
       "      <td>59.840</td>\n",
       "      <td>121.48</td>\n",
       "      <td>...</td>\n",
       "      <td>84.370</td>\n",
       "      <td>119.035</td>\n",
       "      <td>44.11</td>\n",
       "      <td>39.88</td>\n",
       "      <td>82.03</td>\n",
       "      <td>7.38</td>\n",
       "      <td>50.22</td>\n",
       "      <td>63.74</td>\n",
       "      <td>121.770</td>\n",
       "      <td>53.350</td>\n",
       "    </tr>\n",
       "    <tr>\n",
       "      <th>2</th>\n",
       "      <td>1491226320</td>\n",
       "      <td>2362.6799</td>\n",
       "      <td>42.3100</td>\n",
       "      <td>143.6901</td>\n",
       "      <td>130.2250</td>\n",
       "      <td>82.030</td>\n",
       "      <td>102.2125</td>\n",
       "      <td>85.5100</td>\n",
       "      <td>59.795</td>\n",
       "      <td>121.93</td>\n",
       "      <td>...</td>\n",
       "      <td>84.585</td>\n",
       "      <td>119.260</td>\n",
       "      <td>44.09</td>\n",
       "      <td>39.98</td>\n",
       "      <td>82.02</td>\n",
       "      <td>7.36</td>\n",
       "      <td>50.12</td>\n",
       "      <td>63.75</td>\n",
       "      <td>121.700</td>\n",
       "      <td>53.365</td>\n",
       "    </tr>\n",
       "    <tr>\n",
       "      <th>3</th>\n",
       "      <td>1491226380</td>\n",
       "      <td>2364.3101</td>\n",
       "      <td>42.3700</td>\n",
       "      <td>143.6400</td>\n",
       "      <td>130.0729</td>\n",
       "      <td>82.000</td>\n",
       "      <td>102.1400</td>\n",
       "      <td>85.4872</td>\n",
       "      <td>59.620</td>\n",
       "      <td>121.44</td>\n",
       "      <td>...</td>\n",
       "      <td>84.460</td>\n",
       "      <td>119.260</td>\n",
       "      <td>44.25</td>\n",
       "      <td>39.99</td>\n",
       "      <td>82.02</td>\n",
       "      <td>7.35</td>\n",
       "      <td>50.16</td>\n",
       "      <td>63.88</td>\n",
       "      <td>121.700</td>\n",
       "      <td>53.380</td>\n",
       "    </tr>\n",
       "    <tr>\n",
       "      <th>4</th>\n",
       "      <td>1491226440</td>\n",
       "      <td>2364.8501</td>\n",
       "      <td>42.5378</td>\n",
       "      <td>143.6600</td>\n",
       "      <td>129.8800</td>\n",
       "      <td>82.035</td>\n",
       "      <td>102.0600</td>\n",
       "      <td>85.7001</td>\n",
       "      <td>59.620</td>\n",
       "      <td>121.60</td>\n",
       "      <td>...</td>\n",
       "      <td>84.470</td>\n",
       "      <td>119.610</td>\n",
       "      <td>44.11</td>\n",
       "      <td>39.96</td>\n",
       "      <td>82.03</td>\n",
       "      <td>7.36</td>\n",
       "      <td>50.20</td>\n",
       "      <td>63.91</td>\n",
       "      <td>121.695</td>\n",
       "      <td>53.240</td>\n",
       "    </tr>\n",
       "  </tbody>\n",
       "</table>\n",
       "<p>5 rows × 502 columns</p>\n",
       "</div>"
      ],
      "text/plain": [
       "         DATE      SP500  NASDAQ.AAL  NASDAQ.AAPL  NASDAQ.ADBE  NASDAQ.ADI  \\\n",
       "0  1491226200  2363.6101     42.3300     143.6800     129.6300      82.040   \n",
       "1  1491226260  2364.1001     42.3600     143.7000     130.3200      82.080   \n",
       "2  1491226320  2362.6799     42.3100     143.6901     130.2250      82.030   \n",
       "3  1491226380  2364.3101     42.3700     143.6400     130.0729      82.000   \n",
       "4  1491226440  2364.8501     42.5378     143.6600     129.8800      82.035   \n",
       "\n",
       "   NASDAQ.ADP  NASDAQ.ADSK  NASDAQ.AKAM  NASDAQ.ALXN  ...  NYSE.WYN  NYSE.XEC  \\\n",
       "0    102.2300      85.2200       59.760       121.52  ...    84.370   119.035   \n",
       "1    102.1400      85.6500       59.840       121.48  ...    84.370   119.035   \n",
       "2    102.2125      85.5100       59.795       121.93  ...    84.585   119.260   \n",
       "3    102.1400      85.4872       59.620       121.44  ...    84.460   119.260   \n",
       "4    102.0600      85.7001       59.620       121.60  ...    84.470   119.610   \n",
       "\n",
       "   NYSE.XEL  NYSE.XL  NYSE.XOM  NYSE.XRX  NYSE.XYL  NYSE.YUM  NYSE.ZBH  \\\n",
       "0     44.40    39.88     82.03      7.36     50.22     63.86   122.000   \n",
       "1     44.11    39.88     82.03      7.38     50.22     63.74   121.770   \n",
       "2     44.09    39.98     82.02      7.36     50.12     63.75   121.700   \n",
       "3     44.25    39.99     82.02      7.35     50.16     63.88   121.700   \n",
       "4     44.11    39.96     82.03      7.36     50.20     63.91   121.695   \n",
       "\n",
       "   NYSE.ZTS  \n",
       "0    53.350  \n",
       "1    53.350  \n",
       "2    53.365  \n",
       "3    53.380  \n",
       "4    53.240  \n",
       "\n",
       "[5 rows x 502 columns]"
      ]
     },
     "execution_count": 2,
     "metadata": {},
     "output_type": "execute_result"
    }
   ],
   "source": [
    "df= pd.read_csv(r\"C:\\Users\\91758\\Downloads\\Stocks Data\\data_stocks.csv\")\n",
    "df.head()"
   ]
  },
  {
   "cell_type": "code",
   "execution_count": 3,
   "metadata": {},
   "outputs": [
    {
     "name": "stdout",
     "output_type": "stream",
     "text": [
      "<class 'pandas.core.frame.DataFrame'>\n",
      "RangeIndex: 41266 entries, 0 to 41265\n",
      "Columns: 502 entries, DATE to NYSE.ZTS\n",
      "dtypes: float64(501), int64(1)\n",
      "memory usage: 158.0 MB\n"
     ]
    }
   ],
   "source": [
    "df.info()"
   ]
  },
  {
   "cell_type": "code",
   "execution_count": 4,
   "metadata": {},
   "outputs": [],
   "source": [
    "df.drop(['DATE'], axis=1,inplace=True)"
   ]
  },
  {
   "cell_type": "markdown",
   "metadata": {},
   "source": [
    "We are going calculate the historic returns and volatility of the various stocks and then proceed to use the K-Means clustering algorithm to divide the stocks into distinct groups based upon said returns and volatilities.\n",
    "\n",
    "We will be dividing stocks into groups with “similar characteristics” .\n",
    "\n",
    "<b>Volatility</b> refers to the amount of uncertainty or risk involved with the size of changes in a currency exchange rate. A higher volatility means that an exchange rate can potentially be spread out over a larger range of values. High volatility means that the price of the currency can change dramatically over a short time period in either direction. On the other hand, a lower volatility would mean that an exchange rate does not fluctuate dramatically, but changes in value at a steady pace over a period of time. Commonly, the higher the volatility, the riskier the trading of the currency pair is.\n",
    "\n",
    "Technically, the term “Volatility” most frequently refers to the standard deviation of the change in value of a financial instrument over a specific time period. It is often used to quantify (describe in numbers) the risk of the currency pair over that time period."
   ]
  },
  {
   "cell_type": "markdown",
   "metadata": {},
   "source": [
    "<b>How to measure Volatility?</b>\n",
    "To determine how volatile the market could be, you can also evaluate what has happened in the past to determine future volatility. This is known as Historical Volatility. Historical volatility tells us how much the market has moved on an annualized basis.\n",
    "\n",
    "First, you need to decide on the period which for you are calculating the change in price. Historical volatility is calculated by analyzing the returns; which is the change in the value of a currency pair. The basic period can be a one-day change, which is often used, or a 1- week or 1-month change. You will also need to determine how many periods you plan on using in the calculation.\n",
    "\n",
    "What you are actually trying to calculate is the standard deviation, which is the average squared deviation from the mean. The last thing you need to do is making the number annualized by multiplying the volatility by the square root of time which is the days in a year. The output number is a percent value which tells you the annualized movement of the returns of a currency pair. (Ref. forextraininggroup.com)"
   ]
  },
  {
   "cell_type": "code",
   "execution_count": 5,
   "metadata": {},
   "outputs": [],
   "source": [
    "# Calculating the annual Returns for each currency pairs in our dataset\n",
    "Calc = df.pct_change().mean() * 252\n",
    "Calc = pd.DataFrame(Calc)\n",
    "Calc.columns = ['Returns']\n",
    "# Calculating the Volatility (standard deviation) for each currency pairs in our dataset\n",
    "Calc['Volatility'] = df.pct_change().std() * math.sqrt(252)\n",
    "\n",
    "# Converting the format to numpy array\n",
    "Calc_Conv = np.asarray([np.asarray(Calc['Returns']), \n",
    "            np.asarray(Calc['Volatility'])]).T"
   ]
  },
  {
   "cell_type": "code",
   "execution_count": 6,
   "metadata": {},
   "outputs": [
    {
     "data": {
      "text/plain": [
       "array([[ 0.00027892,  0.00356742],\n",
       "       [ 0.00044097,  0.01432611],\n",
       "       [ 0.0008554 ,  0.00987863],\n",
       "       ...,\n",
       "       [ 0.00115122,  0.00687543],\n",
       "       [-0.0003363 ,  0.01110878],\n",
       "       [ 0.00102   ,  0.00844783]])"
      ]
     },
     "execution_count": 6,
     "metadata": {},
     "output_type": "execute_result"
    }
   ],
   "source": [
    "Calc_Conv"
   ]
  },
  {
   "cell_type": "markdown",
   "metadata": {},
   "source": [
    "Our first decision is to choose how many clusters do we actually want to separate the data into. Rather than make some arbitrary decision we can use an “Elbow Curve” to highlight the relationship between how many clusters we choose, and the Sum of Squared Errors (SSE) resulting from using that number of clusters.\n",
    "\n",
    "We then plot this relationship to help us identify the optimal number of clusters to use – we would prefer a lower number of clusters, but also would prefer the SSE to be lower – so this trade off needs to be taken into account."
   ]
  },
  {
   "cell_type": "code",
   "execution_count": 7,
   "metadata": {},
   "outputs": [
    {
     "data": {
      "image/png": "[encoded data removed]",
      "text/plain": [
       "<Figure size 1152x576 with 1 Axes>"
      ]
     },
     "metadata": {
      "needs_background": "light"
     },
     "output_type": "display_data"
    }
   ],
   "source": [
    "distortions = []\n",
    "K = range(1,10)\n",
    "for k in K:\n",
    "    kmeanModel = KMeans(n_clusters=k)\n",
    "    kmeanModel.fit(df)\n",
    "    distortions.append(kmeanModel.inertia_)\n",
    "    \n",
    "#Ploting the distortion of K-Means\n",
    "plt.figure(figsize=(16,8))\n",
    "plt.plot(K, distortions, 'bx-')\n",
    "plt.xlabel('K')\n",
    "plt.ylabel('SSE')\n",
    "plt.title('The Elbow Method showing the optimal k')\n",
    "plt.show()"
   ]
  },
  {
   "cell_type": "code",
   "execution_count": 8,
   "metadata": {},
   "outputs": [
    {
     "data": {
      "text/plain": [
       "KMeans(algorithm='auto', copy_x=True, init='k-means++', max_iter=300,\n",
       "    n_clusters=5, n_init=10, n_jobs=None, precompute_distances='auto',\n",
       "    random_state=None, tol=0.0001, verbose=0)"
      ]
     },
     "execution_count": 8,
     "metadata": {},
     "output_type": "execute_result"
    }
   ],
   "source": [
    "# computing K-Means with K = 5 (5 clusters)\n",
    "kmeans= KMeans(n_clusters=5)\n",
    "kmeans.fit(df)"
   ]
  },
  {
   "cell_type": "code",
   "execution_count": 9,
   "metadata": {},
   "outputs": [],
   "source": [
    "centroids= kmeans.cluster_centers_"
   ]
  },
  {
   "cell_type": "code",
   "execution_count": 10,
   "metadata": {},
   "outputs": [
    {
     "name": "stdout",
     "output_type": "stream",
     "text": [
      "Cluster  1 =  []\n",
      "Cluster  2 =  ['SP500', 'NASDAQ.AAL', 'NASDAQ.AAPL', 'NASDAQ.ADBE', 'NASDAQ.ADI', 'NASDAQ.ADP', 'NASDAQ.ADSK', 'NASDAQ.AKAM', 'NASDAQ.ALXN', 'NASDAQ.AMAT', 'NASDAQ.AMD', 'NASDAQ.AMGN', 'NASDAQ.AMZN', 'NASDAQ.ATVI', 'NASDAQ.AVGO', 'NASDAQ.BBBY', 'NASDAQ.BIIB', 'NASDAQ.CA', 'NASDAQ.CBOE', 'NASDAQ.CELG', 'NASDAQ.CERN', 'NASDAQ.CHRW', 'NASDAQ.CHTR', 'NASDAQ.CINF', 'NASDAQ.CMCSA', 'NASDAQ.CME', 'NASDAQ.COST', 'NASDAQ.CSCO', 'NASDAQ.CSX', 'NASDAQ.CTAS', 'NASDAQ.CTSH', 'NASDAQ.CTXS', 'NASDAQ.DISCA', 'NASDAQ.DISCK', 'NASDAQ.DISH', 'NASDAQ.DLTR', 'NASDAQ.EA', 'NASDAQ.EBAY', 'NASDAQ.EQIX', 'NASDAQ.ESRX', 'NASDAQ.ETFC', 'NASDAQ.EXPD', 'NASDAQ.EXPE', 'NASDAQ.FAST', 'NASDAQ.FB', 'NASDAQ.FFIV', 'NASDAQ.FISV', 'NASDAQ.FITB', 'NASDAQ.FLIR', 'NASDAQ.FOX', 'NASDAQ.FOXA', 'NASDAQ.GILD', 'NASDAQ.GOOG', 'NASDAQ.GOOGL', 'NASDAQ.GRMN', 'NASDAQ.GT', 'NASDAQ.HAS', 'NASDAQ.HBAN', 'NASDAQ.HOLX', 'NASDAQ.HSIC', 'NASDAQ.IDXX', 'NASDAQ.ILMN', 'NASDAQ.INCY', 'NASDAQ.INFO', 'NASDAQ.INTC', 'NASDAQ.INTU', 'NASDAQ.ISRG', 'NASDAQ.JBHT', 'NASDAQ.KHC', 'NASDAQ.KLAC', 'NASDAQ.LKQ', 'NASDAQ.LRCX', 'NASDAQ.MAR', 'NASDAQ.MAT', 'NASDAQ.MCHP', 'NASDAQ.MDLZ', 'NASDAQ.MNST', 'NASDAQ.MSFT', 'NASDAQ.MU', 'NASDAQ.MYL', 'NASDAQ.NAVI', 'NASDAQ.NDAQ', 'NASDAQ.NFLX', 'NASDAQ.NTAP', 'NASDAQ.NTRS', 'NASDAQ.NVDA', 'NASDAQ.NWS', 'NASDAQ.NWSA', 'NASDAQ.ORLY', 'NASDAQ.PAYX', 'NASDAQ.PBCT', 'NASDAQ.PCAR', 'NASDAQ.PCLN', 'NASDAQ.PDCO', 'NASDAQ.PYPL', 'NASDAQ.QCOM', 'NASDAQ.QRVO', 'NASDAQ.REGN', 'NASDAQ.ROST', 'NASDAQ.SBUX', 'NASDAQ.SNI', 'NASDAQ.SNPS', 'NASDAQ.SPLS', 'NASDAQ.SRCL', 'NASDAQ.STX', 'NASDAQ.SWKS', 'NASDAQ.SYMC', 'NASDAQ.TRIP', 'NASDAQ.TROW', 'NASDAQ.TSCO', 'NASDAQ.TXN', 'NASDAQ.ULTA', 'NASDAQ.VIAB', 'NASDAQ.VRSK', 'NASDAQ.VRSN', 'NASDAQ.VRTX', 'NASDAQ.WBA', 'NASDAQ.WDC', 'NASDAQ.WFM', 'NASDAQ.WLTW', 'NASDAQ.WYNN', 'NASDAQ.XLNX', 'NASDAQ.XRAY', 'NASDAQ.ZION', 'NYSE.A', 'NYSE.AAP', 'NYSE.ABBV', 'NYSE.ABC', 'NYSE.ABT', 'NYSE.ACN', 'NYSE.ADM', 'NYSE.ADS', 'NYSE.AEE', 'NYSE.AEP', 'NYSE.AES', 'NYSE.AET', 'NYSE.AFL', 'NYSE.AGN', 'NYSE.AIG', 'NYSE.AIV', 'NYSE.AIZ', 'NYSE.AJG', 'NYSE.ALB', 'NYSE.ALK', 'NYSE.ALL', 'NYSE.ALLE', 'NYSE.AME', 'NYSE.AMG', 'NYSE.AMP', 'NYSE.AMT', 'NYSE.AN', 'NYSE.ANTM', 'NYSE.AON', 'NYSE.APA', 'NYSE.APC', 'NYSE.APD', 'NYSE.APH', 'NYSE.ARE', 'NYSE.ARNC', 'NYSE.AVB', 'NYSE.AVY', 'NYSE.AWK', 'NYSE.AXP', 'NYSE.AYI', 'NYSE.AZO', 'NYSE.BA', 'NYSE.BAC', 'NYSE.BAX', 'NYSE.BBT', 'NYSE.BBY', 'NYSE.BCR', 'NYSE.BDX', 'NYSE.BEN', 'NYSE.BF.B', 'NYSE.BHI', 'NYSE.BK', 'NYSE.BLK', 'NYSE.BLL', 'NYSE.BMY', 'NYSE.BRK.B', 'NYSE.BSX', 'NYSE.BWA', 'NYSE.BXP', 'NYSE.C', 'NYSE.CAG', 'NYSE.CAH', 'NYSE.CAT', 'NYSE.CB', 'NYSE.CBG', 'NYSE.CBS', 'NYSE.CCI', 'NYSE.CCL', 'NYSE.CF', 'NYSE.CFG', 'NYSE.CHD', 'NYSE.CHK', 'NYSE.CI', 'NYSE.CL', 'NYSE.CLX', 'NYSE.CMA', 'NYSE.CMG', 'NYSE.CMI', 'NYSE.CMS', 'NYSE.CNC', 'NYSE.CNP', 'NYSE.COF', 'NYSE.COG', 'NYSE.COH', 'NYSE.COL', 'NYSE.COO', 'NYSE.COP', 'NYSE.COTY', 'NYSE.CPB', 'NYSE.CRM', 'NYSE.CSRA', 'NYSE.CTL', 'NYSE.CVS', 'NYSE.CVX', 'NYSE.CXO', 'NYSE.D', 'NYSE.DAL', 'NYSE.DD', 'NYSE.DE', 'NYSE.DFS', 'NYSE.DG', 'NYSE.DGX', 'NYSE.DHI', 'NYSE.DHR', 'NYSE.DIS', 'NYSE.DLPH', 'NYSE.DLR', 'NYSE.DOV', 'NYSE.DOW', 'NYSE.DPS', 'NYSE.DRI', 'NYSE.DTE', 'NYSE.DUK', 'NYSE.DVA', 'NYSE.DVN', 'NYSE.DXC', 'NYSE.ECL', 'NYSE.ED', 'NYSE.EFX', 'NYSE.EIX', 'NYSE.EL', 'NYSE.EMN', 'NYSE.EMR', 'NYSE.EOG', 'NYSE.EQR', 'NYSE.EQT', 'NYSE.ES', 'NYSE.ESS', 'NYSE.ETN', 'NYSE.ETR', 'NYSE.EVHC', 'NYSE.EW', 'NYSE.EXC', 'NYSE.EXR', 'NYSE.F', 'NYSE.FBHS', 'NYSE.FCX', 'NYSE.FDX', 'NYSE.FE', 'NYSE.FIS', 'NYSE.FL', 'NYSE.FLR', 'NYSE.FLS', 'NYSE.FMC', 'NYSE.FRT', 'NYSE.FTI', 'NYSE.FTV', 'NYSE.GD', 'NYSE.GE', 'NYSE.GGP', 'NYSE.GIS', 'NYSE.GLW', 'NYSE.GM', 'NYSE.GPC', 'NYSE.GPN', 'NYSE.GPS', 'NYSE.GS', 'NYSE.GWW', 'NYSE.HAL', 'NYSE.HBI', 'NYSE.HCA', 'NYSE.HCN', 'NYSE.HCP', 'NYSE.HD', 'NYSE.HES', 'NYSE.HIG', 'NYSE.HOG', 'NYSE.HON', 'NYSE.HP', 'NYSE.HPE', 'NYSE.HPQ', 'NYSE.HRB', 'NYSE.HRL', 'NYSE.HRS', 'NYSE.HST', 'NYSE.HSY', 'NYSE.HUM', 'NYSE.IBM', 'NYSE.ICE', 'NYSE.IFF', 'NYSE.IP', 'NYSE.IPG', 'NYSE.IR', 'NYSE.IRM', 'NYSE.IT', 'NYSE.ITW', 'NYSE.IVZ', 'NYSE.JCI', 'NYSE.JEC', 'NYSE.JNJ', 'NYSE.JNPR', 'NYSE.JPM', 'NYSE.JWN', 'NYSE.K', 'NYSE.KEY', 'NYSE.KIM', 'NYSE.KMB', 'NYSE.KMI', 'NYSE.KMX', 'NYSE.KO', 'NYSE.KORS', 'NYSE.KR', 'NYSE.KSS', 'NYSE.KSU', 'NYSE.L', 'NYSE.LB', 'NYSE.LEG', 'NYSE.LEN', 'NYSE.LH', 'NYSE.LLL', 'NYSE.LLY', 'NYSE.LMT', 'NYSE.LNC', 'NYSE.LNT', 'NYSE.LOW', 'NYSE.LUK', 'NYSE.LUV', 'NYSE.LVLT', 'NYSE.LYB', 'NYSE.M', 'NYSE.MA', 'NYSE.MAA', 'NYSE.MAC', 'NYSE.MAS', 'NYSE.MCD', 'NYSE.MCK', 'NYSE.MCO', 'NYSE.MDT', 'NYSE.MET', 'NYSE.MHK', 'NYSE.MKC', 'NYSE.MLM', 'NYSE.MMC', 'NYSE.MMM', 'NYSE.MNK', 'NYSE.MO', 'NYSE.MON', 'NYSE.MOS', 'NYSE.MPC', 'NYSE.MRK', 'NYSE.MRO', 'NYSE.MS', 'NYSE.MSI', 'NYSE.MTB', 'NYSE.MUR', 'NYSE.NBL', 'NYSE.NEE', 'NYSE.NEM', 'NYSE.NFX', 'NYSE.NI', 'NYSE.NKE', 'NYSE.NLSN', 'NYSE.NOC', 'NYSE.NOV', 'NYSE.NRG', 'NYSE.NSC', 'NYSE.NUE', 'NYSE.NWL', 'NYSE.O', 'NYSE.OKE', 'NYSE.OMC', 'NYSE.ORCL', 'NYSE.OXY', 'NYSE.PCG', 'NYSE.PEG', 'NYSE.PEP', 'NYSE.PFE', 'NYSE.PFG', 'NYSE.PG', 'NYSE.PGR', 'NYSE.PH', 'NYSE.PHM', 'NYSE.PKI', 'NYSE.PLD', 'NYSE.PM', 'NYSE.PNC', 'NYSE.PNR', 'NYSE.PNW', 'NYSE.PPG', 'NYSE.PPL', 'NYSE.PRGO', 'NYSE.PRU', 'NYSE.PSA', 'NYSE.PSX', 'NYSE.PVH', 'NYSE.PWR', 'NYSE.PX', 'NYSE.PXD', 'NYSE.RAI', 'NYSE.RCL', 'NYSE.REG', 'NYSE.RF', 'NYSE.RHI', 'NYSE.RHT', 'NYSE.RIG', 'NYSE.RJF', 'NYSE.RL', 'NYSE.ROK', 'NYSE.ROP', 'NYSE.RRC', 'NYSE.RSG', 'NYSE.RTN', 'NYSE.SCG', 'NYSE.SCHW', 'NYSE.SEE', 'NYSE.SHW', 'NYSE.SIG', 'NYSE.SJM', 'NYSE.SLB', 'NYSE.SLG', 'NYSE.SNA', 'NYSE.SO', 'NYSE.SPG', 'NYSE.SPGI', 'NYSE.SRE', 'NYSE.STI', 'NYSE.STT', 'NYSE.STZ', 'NYSE.SWK', 'NYSE.SYF', 'NYSE.SYK', 'NYSE.SYY', 'NYSE.T', 'NYSE.TAP', 'NYSE.TDG', 'NYSE.TEL', 'NYSE.TGT', 'NYSE.TIF', 'NYSE.TJX', 'NYSE.TMK', 'NYSE.TMO', 'NYSE.TRV', 'NYSE.TSN', 'NYSE.TSO', 'NYSE.TSS', 'NYSE.TWX', 'NYSE.TXT', 'NYSE.UA', 'NYSE.UAA', 'NYSE.UAL', 'NYSE.UDR', 'NYSE.UHS', 'NYSE.UNH', 'NYSE.UNM', 'NYSE.UNP', 'NYSE.UPS', 'NYSE.URI', 'NYSE.USB', 'NYSE.UTX', 'NYSE.V', 'NYSE.VAR', 'NYSE.VFC', 'NYSE.VLO', 'NYSE.VMC', 'NYSE.VNO', 'NYSE.VTR', 'NYSE.VZ', 'NYSE.WAT', 'NYSE.WEC', 'NYSE.WFC', 'NYSE.WHR', 'NYSE.WM', 'NYSE.WMB', 'NYSE.WMT', 'NYSE.WRK', 'NYSE.WU', 'NYSE.WY', 'NYSE.WYN', 'NYSE.XEC', 'NYSE.XEL', 'NYSE.XL', 'NYSE.XOM', 'NYSE.XRX', 'NYSE.XYL', 'NYSE.YUM', 'NYSE.ZBH', 'NYSE.ZTS']\n",
      "Cluster  3 =  []\n",
      "Cluster  4 =  []\n",
      "Cluster  5 =  []\n"
     ]
    }
   ],
   "source": [
    "Cluster_details = [(name, cluster) for name, \n",
    "                   cluster in zip(Calc.index, kmeans.labels_)]\n",
    "clusters = []\n",
    "for i in range (0, 5):\n",
    "    tmp = []\n",
    "    for detail in Cluster_details:\n",
    "        if detail[1] == i:\n",
    "            tmp.append(detail[0])\n",
    "    clusters.append(tmp)\n",
    "for i in range(len(clusters)):\n",
    "    print('Cluster ', i+1, '= ', clusters[i])"
   ]
  }
 ],
 "metadata": {
  "kernelspec": {
   "display_name": "Python 3",
   "language": "python",
   "name": "python3"
  },
  "language_info": {
   "codemirror_mode": {
    "name": "ipython",
    "version": 3
   },
   "file_extension": ".py",
   "mimetype": "text/x-python",
   "name": "python",
   "nbconvert_exporter": "python",
   "pygments_lexer": "ipython3",
   "version": "3.7.3"
  }
 },
 "nbformat": 4,
 "nbformat_minor": 2
}
